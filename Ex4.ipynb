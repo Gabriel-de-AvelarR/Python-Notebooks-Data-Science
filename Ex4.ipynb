{
  "nbformat": 4,
  "nbformat_minor": 0,
  "metadata": {
    "colab": {
      "provenance": []
    },
    "kernelspec": {
      "name": "python3",
      "display_name": "Python 3"
    }
  },
  "cells": [
    {
      "cell_type": "markdown",
      "metadata": {
        "id": "HaabIE4ETRhY"
      },
      "source": [
        "# SCC-ICMC-USP - 2º Semestre de 2023\n",
        "## SCC0275 - Introdução à Ciência de Dados\n",
        "### Professora: Roseli A. F. Romero\n",
        "### Monitor: Roseval Malaquias Jr\n",
        "\n",
        "### **Exercício 4**\n",
        "\n",
        "**Número do Grupo:** 16\n",
        "\n",
        "**Alunos:**\n",
        "1. Renan de Almeida Leandro - 11801157\n",
        "2. Gabriel de Avelar Las Casas Rebelo - 11800462\n",
        "\n",
        "Nesta atividade, nosso objetivo é exercitar os seguintes conceitos:\n",
        "- Manuseio e exploração de datasets utilizando a biblioteca `pandas`;\n",
        "- Utilização de métodos de imputação de valores faltantes com a biblioteca `scikit-learn`;\n",
        "- Transformação de variáveis utilizando a biblioteca `scikit-learn`;\n",
        "- Aplicação do método PCA utilizando a biblioteca `scikit-learn`.\n",
        "\n",
        "---\n",
        "\n",
        "Para os exercícios de **1** a **5**, utilizaremos o dataset **titanic.csv**. A célula de código a seguir realizará o download deste dataset para o ambiente virtual do Google Colab.\n"
      ]
    },
    {
      "cell_type": "code",
      "source": [
        "# Download do dataset para o ambiente virtual.\n",
        "!wget -O titanic.csv \"https://drive.google.com/uc?export=download&id=1agkXL_AlnzqjrPKIPwJy01Bkh17GUW-3\""
      ],
      "metadata": {
        "id": "2yp68sc1kBDp",
        "colab": {
          "base_uri": "https://localhost:8080/"
        },
        "outputId": "c055c198-3145-4d24-d6de-6a4ea6c926d4"
      },
      "execution_count": 1,
      "outputs": [
        {
          "output_type": "stream",
          "name": "stdout",
          "text": [
            "--2024-01-14 15:40:52--  https://drive.google.com/uc?export=download&id=1agkXL_AlnzqjrPKIPwJy01Bkh17GUW-3\n",
            "Resolving drive.google.com (drive.google.com)... 142.250.107.139, 142.250.107.113, 142.250.107.100, ...\n",
            "Connecting to drive.google.com (drive.google.com)|142.250.107.139|:443... connected.\n",
            "HTTP request sent, awaiting response... 303 See Other\n",
            "Location: https://drive.usercontent.google.com/download?id=1agkXL_AlnzqjrPKIPwJy01Bkh17GUW-3&export=download [following]\n",
            "--2024-01-14 15:40:52--  https://drive.usercontent.google.com/download?id=1agkXL_AlnzqjrPKIPwJy01Bkh17GUW-3&export=download\n",
            "Resolving drive.usercontent.google.com (drive.usercontent.google.com)... 142.250.99.132, 2607:f8b0:400e:c0c::84\n",
            "Connecting to drive.usercontent.google.com (drive.usercontent.google.com)|142.250.99.132|:443... connected.\n",
            "HTTP request sent, awaiting response... 200 OK\n",
            "Length: 61194 (60K) [application/octet-stream]\n",
            "Saving to: ‘titanic.csv’\n",
            "\n",
            "titanic.csv         100%[===================>]  59.76K  --.-KB/s    in 0.001s  \n",
            "\n",
            "2024-01-14 15:40:52 (59.1 MB/s) - ‘titanic.csv’ saved [61194/61194]\n",
            "\n"
          ]
        }
      ]
    },
    {
      "cell_type": "markdown",
      "source": [
        "## Dataset **titanic.csv**"
      ],
      "metadata": {
        "id": "n560rdHVkH0O"
      }
    },
    {
      "cell_type": "markdown",
      "metadata": {
        "id": "_YGNezFvvnES"
      },
      "source": [
        "---\n",
        "### Questão 01.\n",
        "\n",
        "Carregue o dataset **titanic.csv** (`pandas.read_csv`) e interprete os valores ausentes corretamente. Utilize o parâmetro `na_values='?'`."
      ]
    },
    {
      "cell_type": "code",
      "metadata": {
        "id": "IXyPAd32wZq4",
        "colab": {
          "base_uri": "https://localhost:8080/"
        },
        "outputId": "44021ac4-0437-4da1-a847-f7a7bcc8071f"
      },
      "source": [
        "# Imports\n",
        "import pandas as pd\n",
        "titanic = pd.read_csv('titanic.csv', na_values='?')\n",
        "print(titanic.info())"
      ],
      "execution_count": 2,
      "outputs": [
        {
          "output_type": "stream",
          "name": "stdout",
          "text": [
            "<class 'pandas.core.frame.DataFrame'>\n",
            "RangeIndex: 891 entries, 0 to 890\n",
            "Data columns (total 12 columns):\n",
            " #   Column       Non-Null Count  Dtype  \n",
            "---  ------       --------------  -----  \n",
            " 0   PassengerId  891 non-null    int64  \n",
            " 1   Survived     891 non-null    int64  \n",
            " 2   Pclass       891 non-null    int64  \n",
            " 3   Name         891 non-null    object \n",
            " 4   Sex          891 non-null    object \n",
            " 5   Age          714 non-null    float64\n",
            " 6   SibSp        891 non-null    int64  \n",
            " 7   Parch        891 non-null    int64  \n",
            " 8   Ticket       891 non-null    object \n",
            " 9   Fare         891 non-null    float64\n",
            " 10  Cabin        204 non-null    object \n",
            " 11  Embarked     889 non-null    object \n",
            "dtypes: float64(2), int64(5), object(5)\n",
            "memory usage: 83.7+ KB\n",
            "None\n"
          ]
        }
      ]
    },
    {
      "cell_type": "code",
      "source": [
        "titanic.head()"
      ],
      "metadata": {
        "colab": {
          "base_uri": "https://localhost:8080/",
          "height": 206
        },
        "id": "y2bmywiIxMuS",
        "outputId": "908cd0e4-6846-4c23-e9af-0e21e42fa55d"
      },
      "execution_count": 3,
      "outputs": [
        {
          "output_type": "execute_result",
          "data": {
            "text/plain": [
              "   PassengerId  Survived  Pclass  \\\n",
              "0            1         0       3   \n",
              "1            2         1       1   \n",
              "2            3         1       3   \n",
              "3            4         1       1   \n",
              "4            5         0       3   \n",
              "\n",
              "                                                Name     Sex   Age  SibSp  \\\n",
              "0                            Braund, Mr. Owen Harris    male  22.0      1   \n",
              "1  Cumings, Mrs. John Bradley (Florence Briggs Th...  female  38.0      1   \n",
              "2                             Heikkinen, Miss. Laina  female  26.0      0   \n",
              "3       Futrelle, Mrs. Jacques Heath (Lily May Peel)  female  35.0      1   \n",
              "4                           Allen, Mr. William Henry    male  35.0      0   \n",
              "\n",
              "   Parch            Ticket     Fare Cabin Embarked  \n",
              "0      0         A/5 21171   7.2500   NaN        S  \n",
              "1      0          PC 17599  71.2833   C85        C  \n",
              "2      0  STON/O2. 3101282   7.9250   NaN        S  \n",
              "3      0            113803  53.1000  C123        S  \n",
              "4      0            373450   8.0500   NaN        S  "
            ],
            "text/html": [
              "\n",
              "  <div id=\"df-20cfdb10-a10c-4972-8b87-4646873fcddb\" class=\"colab-df-container\">\n",
              "    <div>\n",
              "<style scoped>\n",
              "    .dataframe tbody tr th:only-of-type {\n",
              "        vertical-align: middle;\n",
              "    }\n",
              "\n",
              "    .dataframe tbody tr th {\n",
              "        vertical-align: top;\n",
              "    }\n",
              "\n",
              "    .dataframe thead th {\n",
              "        text-align: right;\n",
              "    }\n",
              "</style>\n",
              "<table border=\"1\" class=\"dataframe\">\n",
              "  <thead>\n",
              "    <tr style=\"text-align: right;\">\n",
              "      <th></th>\n",
              "      <th>PassengerId</th>\n",
              "      <th>Survived</th>\n",
              "      <th>Pclass</th>\n",
              "      <th>Name</th>\n",
              "      <th>Sex</th>\n",
              "      <th>Age</th>\n",
              "      <th>SibSp</th>\n",
              "      <th>Parch</th>\n",
              "      <th>Ticket</th>\n",
              "      <th>Fare</th>\n",
              "      <th>Cabin</th>\n",
              "      <th>Embarked</th>\n",
              "    </tr>\n",
              "  </thead>\n",
              "  <tbody>\n",
              "    <tr>\n",
              "      <th>0</th>\n",
              "      <td>1</td>\n",
              "      <td>0</td>\n",
              "      <td>3</td>\n",
              "      <td>Braund, Mr. Owen Harris</td>\n",
              "      <td>male</td>\n",
              "      <td>22.0</td>\n",
              "      <td>1</td>\n",
              "      <td>0</td>\n",
              "      <td>A/5 21171</td>\n",
              "      <td>7.2500</td>\n",
              "      <td>NaN</td>\n",
              "      <td>S</td>\n",
              "    </tr>\n",
              "    <tr>\n",
              "      <th>1</th>\n",
              "      <td>2</td>\n",
              "      <td>1</td>\n",
              "      <td>1</td>\n",
              "      <td>Cumings, Mrs. John Bradley (Florence Briggs Th...</td>\n",
              "      <td>female</td>\n",
              "      <td>38.0</td>\n",
              "      <td>1</td>\n",
              "      <td>0</td>\n",
              "      <td>PC 17599</td>\n",
              "      <td>71.2833</td>\n",
              "      <td>C85</td>\n",
              "      <td>C</td>\n",
              "    </tr>\n",
              "    <tr>\n",
              "      <th>2</th>\n",
              "      <td>3</td>\n",
              "      <td>1</td>\n",
              "      <td>3</td>\n",
              "      <td>Heikkinen, Miss. Laina</td>\n",
              "      <td>female</td>\n",
              "      <td>26.0</td>\n",
              "      <td>0</td>\n",
              "      <td>0</td>\n",
              "      <td>STON/O2. 3101282</td>\n",
              "      <td>7.9250</td>\n",
              "      <td>NaN</td>\n",
              "      <td>S</td>\n",
              "    </tr>\n",
              "    <tr>\n",
              "      <th>3</th>\n",
              "      <td>4</td>\n",
              "      <td>1</td>\n",
              "      <td>1</td>\n",
              "      <td>Futrelle, Mrs. Jacques Heath (Lily May Peel)</td>\n",
              "      <td>female</td>\n",
              "      <td>35.0</td>\n",
              "      <td>1</td>\n",
              "      <td>0</td>\n",
              "      <td>113803</td>\n",
              "      <td>53.1000</td>\n",
              "      <td>C123</td>\n",
              "      <td>S</td>\n",
              "    </tr>\n",
              "    <tr>\n",
              "      <th>4</th>\n",
              "      <td>5</td>\n",
              "      <td>0</td>\n",
              "      <td>3</td>\n",
              "      <td>Allen, Mr. William Henry</td>\n",
              "      <td>male</td>\n",
              "      <td>35.0</td>\n",
              "      <td>0</td>\n",
              "      <td>0</td>\n",
              "      <td>373450</td>\n",
              "      <td>8.0500</td>\n",
              "      <td>NaN</td>\n",
              "      <td>S</td>\n",
              "    </tr>\n",
              "  </tbody>\n",
              "</table>\n",
              "</div>\n",
              "    <div class=\"colab-df-buttons\">\n",
              "\n",
              "  <div class=\"colab-df-container\">\n",
              "    <button class=\"colab-df-convert\" onclick=\"convertToInteractive('df-20cfdb10-a10c-4972-8b87-4646873fcddb')\"\n",
              "            title=\"Convert this dataframe to an interactive table.\"\n",
              "            style=\"display:none;\">\n",
              "\n",
              "  <svg xmlns=\"http://www.w3.org/2000/svg\" height=\"24px\" viewBox=\"0 -960 960 960\">\n",
              "    <path d=\"M120-120v-720h720v720H120Zm60-500h600v-160H180v160Zm220 220h160v-160H400v160Zm0 220h160v-160H400v160ZM180-400h160v-160H180v160Zm440 0h160v-160H620v160ZM180-180h160v-160H180v160Zm440 0h160v-160H620v160Z\"/>\n",
              "  </svg>\n",
              "    </button>\n",
              "\n",
              "  <style>\n",
              "    .colab-df-container {\n",
              "      display:flex;\n",
              "      gap: 12px;\n",
              "    }\n",
              "\n",
              "    .colab-df-convert {\n",
              "      background-color: #E8F0FE;\n",
              "      border: none;\n",
              "      border-radius: 50%;\n",
              "      cursor: pointer;\n",
              "      display: none;\n",
              "      fill: #1967D2;\n",
              "      height: 32px;\n",
              "      padding: 0 0 0 0;\n",
              "      width: 32px;\n",
              "    }\n",
              "\n",
              "    .colab-df-convert:hover {\n",
              "      background-color: #E2EBFA;\n",
              "      box-shadow: 0px 1px 2px rgba(60, 64, 67, 0.3), 0px 1px 3px 1px rgba(60, 64, 67, 0.15);\n",
              "      fill: #174EA6;\n",
              "    }\n",
              "\n",
              "    .colab-df-buttons div {\n",
              "      margin-bottom: 4px;\n",
              "    }\n",
              "\n",
              "    [theme=dark] .colab-df-convert {\n",
              "      background-color: #3B4455;\n",
              "      fill: #D2E3FC;\n",
              "    }\n",
              "\n",
              "    [theme=dark] .colab-df-convert:hover {\n",
              "      background-color: #434B5C;\n",
              "      box-shadow: 0px 1px 3px 1px rgba(0, 0, 0, 0.15);\n",
              "      filter: drop-shadow(0px 1px 2px rgba(0, 0, 0, 0.3));\n",
              "      fill: #FFFFFF;\n",
              "    }\n",
              "  </style>\n",
              "\n",
              "    <script>\n",
              "      const buttonEl =\n",
              "        document.querySelector('#df-20cfdb10-a10c-4972-8b87-4646873fcddb button.colab-df-convert');\n",
              "      buttonEl.style.display =\n",
              "        google.colab.kernel.accessAllowed ? 'block' : 'none';\n",
              "\n",
              "      async function convertToInteractive(key) {\n",
              "        const element = document.querySelector('#df-20cfdb10-a10c-4972-8b87-4646873fcddb');\n",
              "        const dataTable =\n",
              "          await google.colab.kernel.invokeFunction('convertToInteractive',\n",
              "                                                    [key], {});\n",
              "        if (!dataTable) return;\n",
              "\n",
              "        const docLinkHtml = 'Like what you see? Visit the ' +\n",
              "          '<a target=\"_blank\" href=https://colab.research.google.com/notebooks/data_table.ipynb>data table notebook</a>'\n",
              "          + ' to learn more about interactive tables.';\n",
              "        element.innerHTML = '';\n",
              "        dataTable['output_type'] = 'display_data';\n",
              "        await google.colab.output.renderOutput(dataTable, element);\n",
              "        const docLink = document.createElement('div');\n",
              "        docLink.innerHTML = docLinkHtml;\n",
              "        element.appendChild(docLink);\n",
              "      }\n",
              "    </script>\n",
              "  </div>\n",
              "\n",
              "\n",
              "<div id=\"df-1f71b357-13f0-45f2-8f4c-1ad5c1b3e743\">\n",
              "  <button class=\"colab-df-quickchart\" onclick=\"quickchart('df-1f71b357-13f0-45f2-8f4c-1ad5c1b3e743')\"\n",
              "            title=\"Suggest charts\"\n",
              "            style=\"display:none;\">\n",
              "\n",
              "<svg xmlns=\"http://www.w3.org/2000/svg\" height=\"24px\"viewBox=\"0 0 24 24\"\n",
              "     width=\"24px\">\n",
              "    <g>\n",
              "        <path d=\"M19 3H5c-1.1 0-2 .9-2 2v14c0 1.1.9 2 2 2h14c1.1 0 2-.9 2-2V5c0-1.1-.9-2-2-2zM9 17H7v-7h2v7zm4 0h-2V7h2v10zm4 0h-2v-4h2v4z\"/>\n",
              "    </g>\n",
              "</svg>\n",
              "  </button>\n",
              "\n",
              "<style>\n",
              "  .colab-df-quickchart {\n",
              "      --bg-color: #E8F0FE;\n",
              "      --fill-color: #1967D2;\n",
              "      --hover-bg-color: #E2EBFA;\n",
              "      --hover-fill-color: #174EA6;\n",
              "      --disabled-fill-color: #AAA;\n",
              "      --disabled-bg-color: #DDD;\n",
              "  }\n",
              "\n",
              "  [theme=dark] .colab-df-quickchart {\n",
              "      --bg-color: #3B4455;\n",
              "      --fill-color: #D2E3FC;\n",
              "      --hover-bg-color: #434B5C;\n",
              "      --hover-fill-color: #FFFFFF;\n",
              "      --disabled-bg-color: #3B4455;\n",
              "      --disabled-fill-color: #666;\n",
              "  }\n",
              "\n",
              "  .colab-df-quickchart {\n",
              "    background-color: var(--bg-color);\n",
              "    border: none;\n",
              "    border-radius: 50%;\n",
              "    cursor: pointer;\n",
              "    display: none;\n",
              "    fill: var(--fill-color);\n",
              "    height: 32px;\n",
              "    padding: 0;\n",
              "    width: 32px;\n",
              "  }\n",
              "\n",
              "  .colab-df-quickchart:hover {\n",
              "    background-color: var(--hover-bg-color);\n",
              "    box-shadow: 0 1px 2px rgba(60, 64, 67, 0.3), 0 1px 3px 1px rgba(60, 64, 67, 0.15);\n",
              "    fill: var(--button-hover-fill-color);\n",
              "  }\n",
              "\n",
              "  .colab-df-quickchart-complete:disabled,\n",
              "  .colab-df-quickchart-complete:disabled:hover {\n",
              "    background-color: var(--disabled-bg-color);\n",
              "    fill: var(--disabled-fill-color);\n",
              "    box-shadow: none;\n",
              "  }\n",
              "\n",
              "  .colab-df-spinner {\n",
              "    border: 2px solid var(--fill-color);\n",
              "    border-color: transparent;\n",
              "    border-bottom-color: var(--fill-color);\n",
              "    animation:\n",
              "      spin 1s steps(1) infinite;\n",
              "  }\n",
              "\n",
              "  @keyframes spin {\n",
              "    0% {\n",
              "      border-color: transparent;\n",
              "      border-bottom-color: var(--fill-color);\n",
              "      border-left-color: var(--fill-color);\n",
              "    }\n",
              "    20% {\n",
              "      border-color: transparent;\n",
              "      border-left-color: var(--fill-color);\n",
              "      border-top-color: var(--fill-color);\n",
              "    }\n",
              "    30% {\n",
              "      border-color: transparent;\n",
              "      border-left-color: var(--fill-color);\n",
              "      border-top-color: var(--fill-color);\n",
              "      border-right-color: var(--fill-color);\n",
              "    }\n",
              "    40% {\n",
              "      border-color: transparent;\n",
              "      border-right-color: var(--fill-color);\n",
              "      border-top-color: var(--fill-color);\n",
              "    }\n",
              "    60% {\n",
              "      border-color: transparent;\n",
              "      border-right-color: var(--fill-color);\n",
              "    }\n",
              "    80% {\n",
              "      border-color: transparent;\n",
              "      border-right-color: var(--fill-color);\n",
              "      border-bottom-color: var(--fill-color);\n",
              "    }\n",
              "    90% {\n",
              "      border-color: transparent;\n",
              "      border-bottom-color: var(--fill-color);\n",
              "    }\n",
              "  }\n",
              "</style>\n",
              "\n",
              "  <script>\n",
              "    async function quickchart(key) {\n",
              "      const quickchartButtonEl =\n",
              "        document.querySelector('#' + key + ' button');\n",
              "      quickchartButtonEl.disabled = true;  // To prevent multiple clicks.\n",
              "      quickchartButtonEl.classList.add('colab-df-spinner');\n",
              "      try {\n",
              "        const charts = await google.colab.kernel.invokeFunction(\n",
              "            'suggestCharts', [key], {});\n",
              "      } catch (error) {\n",
              "        console.error('Error during call to suggestCharts:', error);\n",
              "      }\n",
              "      quickchartButtonEl.classList.remove('colab-df-spinner');\n",
              "      quickchartButtonEl.classList.add('colab-df-quickchart-complete');\n",
              "    }\n",
              "    (() => {\n",
              "      let quickchartButtonEl =\n",
              "        document.querySelector('#df-1f71b357-13f0-45f2-8f4c-1ad5c1b3e743 button');\n",
              "      quickchartButtonEl.style.display =\n",
              "        google.colab.kernel.accessAllowed ? 'block' : 'none';\n",
              "    })();\n",
              "  </script>\n",
              "</div>\n",
              "    </div>\n",
              "  </div>\n"
            ]
          },
          "metadata": {},
          "execution_count": 3
        }
      ]
    },
    {
      "cell_type": "markdown",
      "source": [
        "---\n",
        "### Questão 02.\n",
        "Realize uma análise exploratória inicial do dataset fornecido.\n",
        "\n",
        "Para isso, você deve:\n",
        "\n",
        " - Apresente a quantidade de valores faltantes para cada variável do dataset.\n"
      ],
      "metadata": {
        "id": "AoWo_N9Lkukt"
      }
    },
    {
      "cell_type": "code",
      "source": [
        "# 1. Quantidade de valores faltantes para cada variável\n",
        "missing_values = titanic.isnull().sum()\n",
        "\n",
        "# 2. Identificar o tipo de dado de cada variável\n",
        "data_types = titanic.dtypes\n",
        "\n",
        "# Exibindo os resultados\n",
        "print(\"1. Quantidade de Valores Faltantes:\")\n",
        "print(missing_values)\n",
        "print(\"\\n2. Tipos de Dados das Variáveis:\")\n",
        "print(data_types)"
      ],
      "metadata": {
        "id": "hKc6ZCyZkvva",
        "colab": {
          "base_uri": "https://localhost:8080/"
        },
        "outputId": "2abc5ca5-6aaa-4b24-eecb-702c0628fc3f"
      },
      "execution_count": 4,
      "outputs": [
        {
          "output_type": "stream",
          "name": "stdout",
          "text": [
            "1. Quantidade de Valores Faltantes:\n",
            "PassengerId      0\n",
            "Survived         0\n",
            "Pclass           0\n",
            "Name             0\n",
            "Sex              0\n",
            "Age            177\n",
            "SibSp            0\n",
            "Parch            0\n",
            "Ticket           0\n",
            "Fare             0\n",
            "Cabin          687\n",
            "Embarked         2\n",
            "dtype: int64\n",
            "\n",
            "2. Tipos de Dados das Variáveis:\n",
            "PassengerId      int64\n",
            "Survived         int64\n",
            "Pclass           int64\n",
            "Name            object\n",
            "Sex             object\n",
            "Age            float64\n",
            "SibSp            int64\n",
            "Parch            int64\n",
            "Ticket          object\n",
            "Fare           float64\n",
            "Cabin           object\n",
            "Embarked        object\n",
            "dtype: object\n"
          ]
        }
      ]
    },
    {
      "cell_type": "markdown",
      "metadata": {
        "id": "l28MiSJ8tEzb"
      },
      "source": [
        "\n",
        "\n",
        "---\n",
        "\n",
        "### Questão 03.\n",
        "\n",
        "Realize o pré-processamento do dataset fornecido.\n",
        "\n",
        "Para isso, você deve:\n",
        "\n",
        "\n",
        "-   **Para as variáveis numéricas:** substitua os valores faltantes utilizando a estratégia de **mediana** (`sklearn.impute.SimpleImputer`). Depois, **padronize** as variáveis (`sklearn.preprocessing.StandarScaler`).\n",
        "-   **Para as variáveis categóricas:** substitua os valores faltantes utilizando a estratégia de **mais frequentes** (`sklearn.impute.SimpleImputer`). Depois, converta os dados categóricos para uma representação numérica, utilizando a codificação **Label Encoding** (`sklearn.preprocessing.LabelEncoder`).\n",
        "\n",
        "Por fim, apresente os resultados, comprovando que a imputação e transformações foram feitas corretamente."
      ]
    },
    {
      "cell_type": "code",
      "metadata": {
        "id": "7eU824MhsLjR"
      },
      "source": [
        "from sklearn.impute import SimpleImputer\n",
        "from sklearn.preprocessing import StandardScaler\n",
        "from sklearn.preprocessing import LabelEncoder\n",
        "\n",
        "titanic_copy = titanic.copy()"
      ],
      "execution_count": 5,
      "outputs": []
    },
    {
      "cell_type": "code",
      "source": [
        "# Selecionando as variáveis numéricas\n",
        "numeric_variables = ['Age', 'SibSp', 'Parch', 'Fare']\n",
        "\n",
        "# Criando um SimpleImputer com estratégia de substituição pela mediana\n",
        "imputerNumerical = SimpleImputer(strategy='median')\n",
        "\n",
        "# Aplicando a transformação nas variáveis numéricas\n",
        "titanic_copy[numeric_variables] = imputerNumerical.fit_transform(titanic_copy[numeric_variables])\n",
        "\n",
        "# Criando um StandardScaler para padronizar as variáveis\n",
        "scaler = StandardScaler()\n",
        "\n",
        "# Aplicando o StandardScaler nas variáveis numéricas\n",
        "titanic_copy[numeric_variables] = scaler.fit_transform(titanic_copy[numeric_variables])\n",
        "\n",
        "# Verificando se ainda existem valores faltantes (não deveria haver, pois foram imputados)\n",
        "missing_values_after_imputation = titanic_copy[numeric_variables].isnull().sum()\n",
        "\n",
        "# Exibindo os resultados\n",
        "print(\"Quantidade de Valores Faltantes Após Imputação:\")\n",
        "print(missing_values_after_imputation)"
      ],
      "metadata": {
        "colab": {
          "base_uri": "https://localhost:8080/"
        },
        "id": "Ba9HuL95x-ES",
        "outputId": "b259e740-dc50-4a1e-90a6-c39d81e1ad7e"
      },
      "execution_count": 6,
      "outputs": [
        {
          "output_type": "stream",
          "name": "stdout",
          "text": [
            "Quantidade de Valores Faltantes Após Imputação:\n",
            "Age      0\n",
            "SibSp    0\n",
            "Parch    0\n",
            "Fare     0\n",
            "dtype: int64\n"
          ]
        }
      ]
    },
    {
      "cell_type": "code",
      "source": [
        "# Selecionando as variáveis categóricas\n",
        "categorical_variables = ['PassengerId', 'Survived', 'Pclass', 'Name', 'Sex', 'Ticket', 'Cabin', 'Embarked']\n",
        "\n",
        "# Criando um SimpleImputer com estratégia de substituição pela mais frequente\n",
        "imputerCategorical = SimpleImputer(strategy='most_frequent')\n",
        "\n",
        "# Aplicando a transformação nas variáveis categóricas\n",
        "titanic_copy[categorical_variables] = imputerCategorical.fit_transform(titanic_copy[categorical_variables])\n",
        "\n",
        "# Criando um LabelEncoder para codificar as variáveis categóricas\n",
        "label_encoder = LabelEncoder()\n",
        "\n",
        "# Aplicando o LabelEncoder nas variáveis categóricas\n",
        "for var in categorical_variables:\n",
        "    titanic_copy[var] = label_encoder.fit_transform(titanic_copy[var])\n",
        "\n",
        "# Verificando se ainda existem valores faltantes\n",
        "missing_values_after_imputation = titanic_copy[categorical_variables].isnull().sum()\n",
        "\n",
        "# Exibindo os resultados\n",
        "print(\"Quantidade de Valores Faltantes Após Imputação:\")\n",
        "print(missing_values_after_imputation)"
      ],
      "metadata": {
        "colab": {
          "base_uri": "https://localhost:8080/"
        },
        "id": "ewQ8DTUE0SIh",
        "outputId": "ac8800d2-3819-40e1-e496-ebde857a2056"
      },
      "execution_count": 7,
      "outputs": [
        {
          "output_type": "stream",
          "name": "stdout",
          "text": [
            "Quantidade de Valores Faltantes Após Imputação:\n",
            "PassengerId    0\n",
            "Survived       0\n",
            "Pclass         0\n",
            "Name           0\n",
            "Sex            0\n",
            "Ticket         0\n",
            "Cabin          0\n",
            "Embarked       0\n",
            "dtype: int64\n"
          ]
        }
      ]
    },
    {
      "cell_type": "markdown",
      "source": [
        "\n",
        "\n",
        "---\n",
        "\n",
        "### Questão 04.\n",
        "\n",
        "- Separe a variável ``Survived`` do dataframe resultante.\n",
        "\n",
        "- Para o restante do dataframe, reduza o número de variáveis explicativas para 2 dimensões, utilizando a técnica PCA (`sklearn.decomposition.PCA`).\n",
        "\n",
        "- Plote um gráfico bidimensional dos pontos após a redução, colorindo cada ponto com o valor do atributo ``Survived``para aquele ponto.\n",
        "\n",
        "- Discuta a interpretação dos componentes principais.\n",
        "\n",
        "> **Faça uma cópia do dataframe resultante da questão 03, pois ele será utilizado na próxima questão**"
      ],
      "metadata": {
        "id": "x8cGrYc2p98q"
      }
    },
    {
      "cell_type": "code",
      "source": [
        "# Separando a variável 'Survived'\n",
        "survived = titanic_copy['Survived']\n",
        "df_minus_survived = titanic_copy.drop(columns=['Survived'])"
      ],
      "metadata": {
        "id": "BKRukrzdp-YR"
      },
      "execution_count": 8,
      "outputs": []
    },
    {
      "cell_type": "code",
      "source": [
        "from sklearn.decomposition import PCA\n",
        "\n",
        "# Selecionando as variáveis explicativas\n",
        "X = df_minus_survived.drop(columns = ['PassengerId', 'Pclass', 'Name', 'Sex', 'Ticket', 'Cabin', 'Embarked'])\n",
        "\n",
        "# Criando uma instância de PCA para 2 componentes\n",
        "pca = PCA(n_components=2)\n",
        "\n",
        "# Aplicando a redução de dimensionalidade\n",
        "X_pca = pca.fit_transform(X)\n"
      ],
      "metadata": {
        "id": "AbKHjAZ73F_I"
      },
      "execution_count": 9,
      "outputs": []
    },
    {
      "cell_type": "code",
      "source": [
        "pca.components_"
      ],
      "metadata": {
        "colab": {
          "base_uri": "https://localhost:8080/"
        },
        "id": "u43r3CZpG8bz",
        "outputId": "8013de81-a544-4b7a-b54c-1067c6ffb5bb"
      },
      "execution_count": 10,
      "outputs": [
        {
          "output_type": "execute_result",
          "data": {
            "text/plain": [
              "array([[-0.3538236 ,  0.6235585 ,  0.62019048,  0.31835111],\n",
              "       [ 0.68345782, -0.06944311,  0.08956957,  0.72113823]])"
            ]
          },
          "metadata": {},
          "execution_count": 10
        }
      ]
    },
    {
      "cell_type": "code",
      "source": [
        "import matplotlib.pyplot as plt\n",
        "\n",
        "# Criando um DataFrame com os dados reduzidos pelo PCA\n",
        "pca_df = pd.DataFrame(data=X_pca, columns=['Componente Principal 1', 'Componente Principal 2'])\n",
        "\n",
        "# Adicionando a coluna 'Survived' ao DataFrame PCA\n",
        "pca_df['Survived'] = survived\n",
        "\n",
        "# Criando o gráfico\n",
        "plt.figure(figsize=(10, 6))\n",
        "plt.scatter(x=pca_df['Componente Principal 1'], y=pca_df['Componente Principal 2'], c=pca_df['Survived'], cmap='viridis')\n",
        "plt.colorbar(label='Survived')\n",
        "plt.xlabel('Componente Principal 1')\n",
        "plt.ylabel('Componente Principal 2')\n",
        "plt.title('Redução para 2 Dimensões com PCA')\n",
        "plt.show()"
      ],
      "metadata": {
        "colab": {
          "base_uri": "https://localhost:8080/",
          "height": 564
        },
        "id": "sT5JKPd69U2u",
        "outputId": "4f8b98e1-8281-435c-828e-afae3a59ad04"
      },
      "execution_count": 11,
      "outputs": [
        {
          "output_type": "display_data",
          "data": {
            "text/plain": [
              "<Figure size 1000x600 with 2 Axes>"
            ],
            "image/png": "[encoded data removed]"
          },
          "metadata": {}
        }
      ]
    },
    {
      "cell_type": "markdown",
      "source": [
        "Os componentes principais são combinações lineares das variáveis originais que capturam a maior parte da variabilidade nos dados. No caso do PCA, o primeiro componente principal (PC1) captura a maior variância e o segundo componente principal (PC2) captura a segunda maior variância.\n",
        "\n",
        "A interpretação dos componentes principais depende das características específicas do conjunto de dados. No entanto, em termos gerais, os componentes principais podem representar padrões ou relações importantes entre as variáveis originais."
      ],
      "metadata": {
        "id": "e-8rvMaxIS-s"
      }
    },
    {
      "cell_type": "markdown",
      "metadata": {
        "id": "d-MZPSb4Ya9U"
      },
      "source": [
        "\n",
        "\n",
        "---\n",
        "\n",
        "### Questão 05.\n",
        "\n",
        "**Para o dataframe resultante da questão 03:**\n",
        "- Reduza a dimensionalidade do conjunto de dados criado utilizando a técnica PCA (`sklearn.decomposition.PCA`). Reduza a dimensionalidade de forma que no mínimo 80% da variância dos dados seja mantida. Depois apresente os eixos principais."
      ]
    },
    {
      "cell_type": "code",
      "source": [
        "# Selecionando as variáveis explicativas\n",
        "Y = titanic_copy.drop(columns = ['PassengerId', 'Survived', 'Pclass', 'Name', 'Sex', 'Ticket', 'Cabin', 'Embarked'])\n",
        "\n",
        "# Criando uma instância de PCA para 80% da variância dos dados\n",
        "pca_80 = PCA(0.8, svd_solver='full')\n",
        "\n",
        "# Aplicando a redução de dimensionalidade\n",
        "X_pca_80 = pca_80.fit_transform(Y)\n",
        "\n",
        "print(pca_80.components_)"
      ],
      "metadata": {
        "colab": {
          "base_uri": "https://localhost:8080/"
        },
        "id": "edpu_BL08Z-W",
        "outputId": "d56e1dc6-d6ba-4350-81fa-f3cbdd4ffa24"
      },
      "execution_count": 12,
      "outputs": [
        {
          "output_type": "stream",
          "name": "stdout",
          "text": [
            "[[-0.3538236   0.6235585   0.62019048  0.31835111]\n",
            " [ 0.68345782 -0.06944311  0.08956957  0.72113823]\n",
            " [-0.63152602 -0.31855316 -0.35406686  0.61182957]]\n"
          ]
        }
      ]
    }
  ]
}