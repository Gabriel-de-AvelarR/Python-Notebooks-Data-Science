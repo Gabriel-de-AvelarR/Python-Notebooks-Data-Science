{
  "nbformat": 4,
  "nbformat_minor": 0,
  "metadata": {
    "colab": {
      "provenance": []
    },
    "kernelspec": {
      "name": "python3",
      "display_name": "Python 3"
    }
  },
  "cells": [
    {
      "cell_type": "markdown",
      "metadata": {
        "id": "gkjYMF3lBbF_"
      },
      "source": [
        "# SCC-ICMC-USP - 2o. semestre de 2023\n",
        "# SCC0275 - Introdução a Ciencia de Dados\n",
        "\n",
        "### Profa. Roseli A. F. Romero\n",
        "\n",
        "### Monitor: Roseval Malaquias Jr\n",
        "\n",
        "\n",
        "Aluno:\n",
        "\n",
        "\n",
        "1.   Gabriel de Avelar Las Casas Rebelo (11800462)\n",
        "\n"
      ]
    },
    {
      "cell_type": "code",
      "source": [
        "from google.colab import drive\n",
        "drive.mount('/content/drive')"
      ],
      "metadata": {
        "colab": {
          "base_uri": "https://localhost:8080/"
        },
        "id": "hxcCo3MOLE92",
        "outputId": "9a741944-eb5c-4d2b-ba16-ae8bc6a5791f"
      },
      "execution_count": null,
      "outputs": [
        {
          "output_type": "stream",
          "name": "stdout",
          "text": [
            "Drive already mounted at /content/drive; to attempt to forcibly remount, call drive.mount(\"/content/drive\", force_remount=True).\n"
          ]
        }
      ]
    },
    {
      "cell_type": "markdown",
      "source": [
        " 1- Definir uma lista, x,  de 11 números qualquer de numeros inteiros. Transformar a lista x, num dataframe, y, e exibir o boxplot desses dados.\n",
        "\n",
        "> Bloco com recuo\n",
        "\n"
      ],
      "metadata": {
        "id": "7NZTr10_F5kc"
      }
    },
    {
      "cell_type": "code",
      "source": [
        "from re import X\n",
        "import pandas as pd\n",
        "x = [9, 11, 23, 25, 41, 94, 67, 55, 32, 29, 43]\n",
        "y = pd.DataFrame(x, columns=['data'])\n",
        "print(type(y))\n",
        "y.boxplot()"
      ],
      "metadata": {
        "colab": {
          "base_uri": "https://localhost:8080/",
          "height": 466
        },
        "id": "XBlBJHt3G0fv",
        "outputId": "0ee87238-88b3-4759-9504-52b06d9cf443"
      },
      "execution_count": null,
      "outputs": [
        {
          "output_type": "stream",
          "name": "stdout",
          "text": [
            "<class 'pandas.core.frame.DataFrame'>\n"
          ]
        },
        {
          "output_type": "execute_result",
          "data": {
            "text/plain": [
              "<Axes: >"
            ]
          },
          "metadata": {},
          "execution_count": 23
        },
        {
          "output_type": "display_data",
          "data": {
            "text/plain": [
              "<Figure size 640x480 with 1 Axes>"
            ],
            "image/png": "[encoded data removed]"
          },
          "metadata": {}
        }
      ]
    },
    {
      "cell_type": "markdown",
      "source": [
        "2 - Usando o numpy determine o tamanho da lista x. Imprima o tamanh"
      ],
      "metadata": {
        "id": "XC7NqkqlGUzI"
      }
    },
    {
      "cell_type": "code",
      "source": [
        "import numpy as np\n",
        "import matplotlib.pyplot as plt\n",
        "\n",
        "arr = np.asarray(x)\n",
        "print(f\"Tamanho: {len(arr)}\")"
      ],
      "metadata": {
        "id": "l7dSmebooQX-",
        "outputId": "eca4dbe4-6e8b-4848-9629-8659f67493ff",
        "colab": {
          "base_uri": "https://localhost:8080/"
        }
      },
      "execution_count": null,
      "outputs": [
        {
          "output_type": "stream",
          "name": "stdout",
          "text": [
            "Tamanho: 11\n"
          ]
        }
      ]
    },
    {
      "cell_type": "markdown",
      "source": [
        "3 - Usar o comando shape para verificar o formato de x e y."
      ],
      "metadata": {
        "id": "sfyplP0bNOMX"
      }
    },
    {
      "cell_type": "code",
      "source": [
        "print(f\"X: {np.shape(arr)}\")\n",
        "print(f\"Y: {y.shape}\")"
      ],
      "metadata": {
        "id": "2HDh1jRFpj3X",
        "outputId": "a4980d16-09e7-4f89-b1e1-eb2634effc26",
        "colab": {
          "base_uri": "https://localhost:8080/"
        }
      },
      "execution_count": null,
      "outputs": [
        {
          "output_type": "stream",
          "name": "stdout",
          "text": [
            "X: (11,)\n",
            "Y: (11, 1)\n"
          ]
        }
      ]
    },
    {
      "cell_type": "markdown",
      "source": [
        "4 - Faça o histograma de y."
      ],
      "metadata": {
        "id": "KOcjdglBNghm"
      }
    },
    {
      "cell_type": "code",
      "source": [
        "y.hist()"
      ],
      "metadata": {
        "id": "dlOCzM16tJKC",
        "outputId": "a7e9321a-a9c7-44ed-b151-442584864098",
        "colab": {
          "base_uri": "https://localhost:8080/",
          "height": 470
        }
      },
      "execution_count": null,
      "outputs": [
        {
          "output_type": "execute_result",
          "data": {
            "text/plain": [
              "array([[<Axes: title={'center': 'data'}>]], dtype=object)"
            ]
          },
          "metadata": {},
          "execution_count": 26
        },
        {
          "output_type": "display_data",
          "data": {
            "text/plain": [
              "<Figure size 640x480 with 1 Axes>"
            ],
            "image/png": "[encoded data removed]"
          },
          "metadata": {}
        }
      ]
    },
    {
      "cell_type": "markdown",
      "source": [
        "5 - Imprimir o maior valor e o  menor valor de y."
      ],
      "metadata": {
        "id": "mGxYFZmnNoig"
      }
    },
    {
      "cell_type": "code",
      "source": [
        "print(f\"Maior valor: {y['data'].max()}\")\n",
        "print(f\"Menor valor: {y['data'].min()}\")"
      ],
      "metadata": {
        "id": "hPo7DHp9v5Th",
        "outputId": "6d0f5673-cf33-4a0b-8492-3958eb1683f0",
        "colab": {
          "base_uri": "https://localhost:8080/"
        }
      },
      "execution_count": null,
      "outputs": [
        {
          "output_type": "stream",
          "name": "stdout",
          "text": [
            "Maior valor: 94\n",
            "Menor valor: 9\n"
          ]
        }
      ]
    },
    {
      "cell_type": "markdown",
      "source": [
        "6 - Imprimir a soma dos valores de y."
      ],
      "metadata": {
        "id": "NN-yUjS2N2Ho"
      }
    },
    {
      "cell_type": "code",
      "source": [
        "print(f\"Soma: {y['data'].sum()}\")"
      ],
      "metadata": {
        "id": "mPwrzSW9v7kK",
        "outputId": "2a0f0cd3-48f1-429e-e8e2-1e4a876ab1bd",
        "colab": {
          "base_uri": "https://localhost:8080/"
        }
      },
      "execution_count": null,
      "outputs": [
        {
          "output_type": "stream",
          "name": "stdout",
          "text": [
            "Soma: 429\n"
          ]
        }
      ]
    },
    {
      "cell_type": "markdown",
      "source": [
        "7 - Fazer o boxplor de y na horizontal, lembrando que o default é na vertical."
      ],
      "metadata": {
        "id": "Kpj_MJIEOqjb"
      }
    },
    {
      "cell_type": "code",
      "source": [
        "plt.boxplot(y['data'], vert=False)\n"
      ],
      "metadata": {
        "id": "L3DnpLIPv8Fb",
        "outputId": "e9d12e38-5dd5-4b02-cd2d-c010a0ab384a",
        "colab": {
          "base_uri": "https://localhost:8080/",
          "height": 573
        }
      },
      "execution_count": null,
      "outputs": [
        {
          "output_type": "execute_result",
          "data": {
            "text/plain": [
              "{'whiskers': [<matplotlib.lines.Line2D at 0x7ca326eb1ed0>,\n",
              "  <matplotlib.lines.Line2D at 0x7ca326eb2170>],\n",
              " 'caps': [<matplotlib.lines.Line2D at 0x7ca326eb2410>,\n",
              "  <matplotlib.lines.Line2D at 0x7ca326eb26b0>],\n",
              " 'boxes': [<matplotlib.lines.Line2D at 0x7ca326eb1c30>],\n",
              " 'medians': [<matplotlib.lines.Line2D at 0x7ca326eb2950>],\n",
              " 'fliers': [<matplotlib.lines.Line2D at 0x7ca326eb2bf0>],\n",
              " 'means': []}"
            ]
          },
          "metadata": {},
          "execution_count": 29
        },
        {
          "output_type": "display_data",
          "data": {
            "text/plain": [
              "<Figure size 640x480 with 1 Axes>"
            ],
            "image/png": "[encoded data removed]"
          },
          "metadata": {}
        }
      ]
    },
    {
      "cell_type": "markdown",
      "source": [
        "8 - Exiba o no. de elementos, todos os 3 quartis, média, desvio-padrao, menor e maior do conjunto de dados.\n",
        "Utilize para isso o comando describe."
      ],
      "metadata": {
        "id": "ULkw-4PPPZ7D"
      }
    },
    {
      "cell_type": "code",
      "source": [
        "y.describe()"
      ],
      "metadata": {
        "id": "mDL2N1x1zdcV",
        "outputId": "6be708df-46b8-460c-841d-9d0e0856dcee",
        "colab": {
          "base_uri": "https://localhost:8080/",
          "height": 300
        }
      },
      "execution_count": null,
      "outputs": [
        {
          "output_type": "execute_result",
          "data": {
            "text/plain": [
              "            data\n",
              "count  11.000000\n",
              "mean   39.000000\n",
              "std    25.238859\n",
              "min     9.000000\n",
              "25%    24.000000\n",
              "50%    32.000000\n",
              "75%    49.000000\n",
              "max    94.000000"
            ],
            "text/html": [
              "\n",
              "  <div id=\"df-346d6f70-fcae-4582-909b-8a1b1ed7ab7a\" class=\"colab-df-container\">\n",
              "    <div>\n",
              "<style scoped>\n",
              "    .dataframe tbody tr th:only-of-type {\n",
              "        vertical-align: middle;\n",
              "    }\n",
              "\n",
              "    .dataframe tbody tr th {\n",
              "        vertical-align: top;\n",
              "    }\n",
              "\n",
              "    .dataframe thead th {\n",
              "        text-align: right;\n",
              "    }\n",
              "</style>\n",
              "<table border=\"1\" class=\"dataframe\">\n",
              "  <thead>\n",
              "    <tr style=\"text-align: right;\">\n",
              "      <th></th>\n",
              "      <th>data</th>\n",
              "    </tr>\n",
              "  </thead>\n",
              "  <tbody>\n",
              "    <tr>\n",
              "      <th>count</th>\n",
              "      <td>11.000000</td>\n",
              "    </tr>\n",
              "    <tr>\n",
              "      <th>mean</th>\n",
              "      <td>39.000000</td>\n",
              "    </tr>\n",
              "    <tr>\n",
              "      <th>std</th>\n",
              "      <td>25.238859</td>\n",
              "    </tr>\n",
              "    <tr>\n",
              "      <th>min</th>\n",
              "      <td>9.000000</td>\n",
              "    </tr>\n",
              "    <tr>\n",
              "      <th>25%</th>\n",
              "      <td>24.000000</td>\n",
              "    </tr>\n",
              "    <tr>\n",
              "      <th>50%</th>\n",
              "      <td>32.000000</td>\n",
              "    </tr>\n",
              "    <tr>\n",
              "      <th>75%</th>\n",
              "      <td>49.000000</td>\n",
              "    </tr>\n",
              "    <tr>\n",
              "      <th>max</th>\n",
              "      <td>94.000000</td>\n",
              "    </tr>\n",
              "  </tbody>\n",
              "</table>\n",
              "</div>\n",
              "    <div class=\"colab-df-buttons\">\n",
              "\n",
              "  <div class=\"colab-df-container\">\n",
              "    <button class=\"colab-df-convert\" onclick=\"convertToInteractive('df-346d6f70-fcae-4582-909b-8a1b1ed7ab7a')\"\n",
              "            title=\"Convert this dataframe to an interactive table.\"\n",
              "            style=\"display:none;\">\n",
              "\n",
              "  <svg xmlns=\"http://www.w3.org/2000/svg\" height=\"24px\" viewBox=\"0 -960 960 960\">\n",
              "    <path d=\"M120-120v-720h720v720H120Zm60-500h600v-160H180v160Zm220 220h160v-160H400v160Zm0 220h160v-160H400v160ZM180-400h160v-160H180v160Zm440 0h160v-160H620v160ZM180-180h160v-160H180v160Zm440 0h160v-160H620v160Z\"/>\n",
              "  </svg>\n",
              "    </button>\n",
              "\n",
              "  <style>\n",
              "    .colab-df-container {\n",
              "      display:flex;\n",
              "      gap: 12px;\n",
              "    }\n",
              "\n",
              "    .colab-df-convert {\n",
              "      background-color: #E8F0FE;\n",
              "      border: none;\n",
              "      border-radius: 50%;\n",
              "      cursor: pointer;\n",
              "      display: none;\n",
              "      fill: #1967D2;\n",
              "      height: 32px;\n",
              "      padding: 0 0 0 0;\n",
              "      width: 32px;\n",
              "    }\n",
              "\n",
              "    .colab-df-convert:hover {\n",
              "      background-color: #E2EBFA;\n",
              "      box-shadow: 0px 1px 2px rgba(60, 64, 67, 0.3), 0px 1px 3px 1px rgba(60, 64, 67, 0.15);\n",
              "      fill: #174EA6;\n",
              "    }\n",
              "\n",
              "    .colab-df-buttons div {\n",
              "      margin-bottom: 4px;\n",
              "    }\n",
              "\n",
              "    [theme=dark] .colab-df-convert {\n",
              "      background-color: #3B4455;\n",
              "      fill: #D2E3FC;\n",
              "    }\n",
              "\n",
              "    [theme=dark] .colab-df-convert:hover {\n",
              "      background-color: #434B5C;\n",
              "      box-shadow: 0px 1px 3px 1px rgba(0, 0, 0, 0.15);\n",
              "      filter: drop-shadow(0px 1px 2px rgba(0, 0, 0, 0.3));\n",
              "      fill: #FFFFFF;\n",
              "    }\n",
              "  </style>\n",
              "\n",
              "    <script>\n",
              "      const buttonEl =\n",
              "        document.querySelector('#df-346d6f70-fcae-4582-909b-8a1b1ed7ab7a button.colab-df-convert');\n",
              "      buttonEl.style.display =\n",
              "        google.colab.kernel.accessAllowed ? 'block' : 'none';\n",
              "\n",
              "      async function convertToInteractive(key) {\n",
              "        const element = document.querySelector('#df-346d6f70-fcae-4582-909b-8a1b1ed7ab7a');\n",
              "        const dataTable =\n",
              "          await google.colab.kernel.invokeFunction('convertToInteractive',\n",
              "                                                    [key], {});\n",
              "        if (!dataTable) return;\n",
              "\n",
              "        const docLinkHtml = 'Like what you see? Visit the ' +\n",
              "          '<a target=\"_blank\" href=https://colab.research.google.com/notebooks/data_table.ipynb>data table notebook</a>'\n",
              "          + ' to learn more about interactive tables.';\n",
              "        element.innerHTML = '';\n",
              "        dataTable['output_type'] = 'display_data';\n",
              "        await google.colab.output.renderOutput(dataTable, element);\n",
              "        const docLink = document.createElement('div');\n",
              "        docLink.innerHTML = docLinkHtml;\n",
              "        element.appendChild(docLink);\n",
              "      }\n",
              "    </script>\n",
              "  </div>\n",
              "\n",
              "\n",
              "<div id=\"df-2c8da22d-ffa7-4ede-9077-1aabb9d48a93\">\n",
              "  <button class=\"colab-df-quickchart\" onclick=\"quickchart('df-2c8da22d-ffa7-4ede-9077-1aabb9d48a93')\"\n",
              "            title=\"Suggest charts.\"\n",
              "            style=\"display:none;\">\n",
              "\n",
              "<svg xmlns=\"http://www.w3.org/2000/svg\" height=\"24px\"viewBox=\"0 0 24 24\"\n",
              "     width=\"24px\">\n",
              "    <g>\n",
              "        <path d=\"M19 3H5c-1.1 0-2 .9-2 2v14c0 1.1.9 2 2 2h14c1.1 0 2-.9 2-2V5c0-1.1-.9-2-2-2zM9 17H7v-7h2v7zm4 0h-2V7h2v10zm4 0h-2v-4h2v4z\"/>\n",
              "    </g>\n",
              "</svg>\n",
              "  </button>\n",
              "\n",
              "<style>\n",
              "  .colab-df-quickchart {\n",
              "      --bg-color: #E8F0FE;\n",
              "      --fill-color: #1967D2;\n",
              "      --hover-bg-color: #E2EBFA;\n",
              "      --hover-fill-color: #174EA6;\n",
              "      --disabled-fill-color: #AAA;\n",
              "      --disabled-bg-color: #DDD;\n",
              "  }\n",
              "\n",
              "  [theme=dark] .colab-df-quickchart {\n",
              "      --bg-color: #3B4455;\n",
              "      --fill-color: #D2E3FC;\n",
              "      --hover-bg-color: #434B5C;\n",
              "      --hover-fill-color: #FFFFFF;\n",
              "      --disabled-bg-color: #3B4455;\n",
              "      --disabled-fill-color: #666;\n",
              "  }\n",
              "\n",
              "  .colab-df-quickchart {\n",
              "    background-color: var(--bg-color);\n",
              "    border: none;\n",
              "    border-radius: 50%;\n",
              "    cursor: pointer;\n",
              "    display: none;\n",
              "    fill: var(--fill-color);\n",
              "    height: 32px;\n",
              "    padding: 0;\n",
              "    width: 32px;\n",
              "  }\n",
              "\n",
              "  .colab-df-quickchart:hover {\n",
              "    background-color: var(--hover-bg-color);\n",
              "    box-shadow: 0 1px 2px rgba(60, 64, 67, 0.3), 0 1px 3px 1px rgba(60, 64, 67, 0.15);\n",
              "    fill: var(--button-hover-fill-color);\n",
              "  }\n",
              "\n",
              "  .colab-df-quickchart-complete:disabled,\n",
              "  .colab-df-quickchart-complete:disabled:hover {\n",
              "    background-color: var(--disabled-bg-color);\n",
              "    fill: var(--disabled-fill-color);\n",
              "    box-shadow: none;\n",
              "  }\n",
              "\n",
              "  .colab-df-spinner {\n",
              "    border: 2px solid var(--fill-color);\n",
              "    border-color: transparent;\n",
              "    border-bottom-color: var(--fill-color);\n",
              "    animation:\n",
              "      spin 1s steps(1) infinite;\n",
              "  }\n",
              "\n",
              "  @keyframes spin {\n",
              "    0% {\n",
              "      border-color: transparent;\n",
              "      border-bottom-color: var(--fill-color);\n",
              "      border-left-color: var(--fill-color);\n",
              "    }\n",
              "    20% {\n",
              "      border-color: transparent;\n",
              "      border-left-color: var(--fill-color);\n",
              "      border-top-color: var(--fill-color);\n",
              "    }\n",
              "    30% {\n",
              "      border-color: transparent;\n",
              "      border-left-color: var(--fill-color);\n",
              "      border-top-color: var(--fill-color);\n",
              "      border-right-color: var(--fill-color);\n",
              "    }\n",
              "    40% {\n",
              "      border-color: transparent;\n",
              "      border-right-color: var(--fill-color);\n",
              "      border-top-color: var(--fill-color);\n",
              "    }\n",
              "    60% {\n",
              "      border-color: transparent;\n",
              "      border-right-color: var(--fill-color);\n",
              "    }\n",
              "    80% {\n",
              "      border-color: transparent;\n",
              "      border-right-color: var(--fill-color);\n",
              "      border-bottom-color: var(--fill-color);\n",
              "    }\n",
              "    90% {\n",
              "      border-color: transparent;\n",
              "      border-bottom-color: var(--fill-color);\n",
              "    }\n",
              "  }\n",
              "</style>\n",
              "\n",
              "  <script>\n",
              "    async function quickchart(key) {\n",
              "      const quickchartButtonEl =\n",
              "        document.querySelector('#' + key + ' button');\n",
              "      quickchartButtonEl.disabled = true;  // To prevent multiple clicks.\n",
              "      quickchartButtonEl.classList.add('colab-df-spinner');\n",
              "      try {\n",
              "        const charts = await google.colab.kernel.invokeFunction(\n",
              "            'suggestCharts', [key], {});\n",
              "      } catch (error) {\n",
              "        console.error('Error during call to suggestCharts:', error);\n",
              "      }\n",
              "      quickchartButtonEl.classList.remove('colab-df-spinner');\n",
              "      quickchartButtonEl.classList.add('colab-df-quickchart-complete');\n",
              "    }\n",
              "    (() => {\n",
              "      let quickchartButtonEl =\n",
              "        document.querySelector('#df-2c8da22d-ffa7-4ede-9077-1aabb9d48a93 button');\n",
              "      quickchartButtonEl.style.display =\n",
              "        google.colab.kernel.accessAllowed ? 'block' : 'none';\n",
              "    })();\n",
              "  </script>\n",
              "</div>\n",
              "    </div>\n",
              "  </div>\n"
            ]
          },
          "metadata": {},
          "execution_count": 30
        }
      ]
    },
    {
      "cell_type": "markdown",
      "source": [
        "9 - Exibir a média e a variância de y, usando o numpy."
      ],
      "metadata": {
        "id": "D7DMJAZzPrBp"
      }
    },
    {
      "cell_type": "code",
      "source": [
        "valores = y['data'].to_numpy()\n",
        "\n",
        "print(f\"Media: {np.mean(valores)}\")\n",
        "print(f\"Variancia: {np.var(valores)}\")"
      ],
      "metadata": {
        "id": "zrc6ugRyzfu1",
        "outputId": "9a4b1aa6-d8ab-4f0a-ce9e-a95548f4b23d",
        "colab": {
          "base_uri": "https://localhost:8080/"
        }
      },
      "execution_count": null,
      "outputs": [
        {
          "output_type": "stream",
          "name": "stdout",
          "text": [
            "Media: 39.0\n",
            "Variancia: 579.0909090909091\n"
          ]
        }
      ]
    },
    {
      "cell_type": "markdown",
      "source": [
        "10 - Exibir o 3o. e 4o. momento de y, usando o stats.skew e stats.kurtosis, respectivamente."
      ],
      "metadata": {
        "id": "dg4rkr7sRhnI"
      }
    },
    {
      "cell_type": "code",
      "source": [
        "import scipy.stats as stats\n",
        "\n",
        "print(f\"Terceiro momento: {stats.skew(y['data'])}\")\n",
        "print(f\" Quarto momento: {stats.kurtosis(y['data'])}\")"
      ],
      "metadata": {
        "id": "6SraxIKTzgY0",
        "outputId": "cf2bbc74-5a3d-465e-f3c1-83c1663847b7",
        "colab": {
          "base_uri": "https://localhost:8080/"
        }
      },
      "execution_count": null,
      "outputs": [
        {
          "output_type": "stream",
          "name": "stdout",
          "text": [
            "Terceiro momento: 0.8830342317197536\n",
            " Quarto momento: 0.08286433906976587\n"
          ]
        }
      ]
    },
    {
      "cell_type": "markdown",
      "source": [
        "11 - Definir uma matriz de tamanho 2 x 4. Nomear as linhas: Aluno1 e Aluno 2 e as colunas como: nota1, nota2, nota3, nota 4. Para isso, criar um DataFrame correspondente."
      ],
      "metadata": {
        "id": "kA7r6yH8Szpp"
      }
    },
    {
      "cell_type": "code",
      "source": [
        "notas = [[10.0, 7.5, 5.6, 6.7], [0.0, 6.5, 9.8, 7.8]]\n",
        "\n",
        "df= pd.DataFrame(notas, index = ['Aluno1', 'Aluno2'], columns = ['nota1', 'nota2', 'nota3', 'nota4'])\n",
        "print(df)"
      ],
      "metadata": {
        "id": "uA6C4_9ezhu9",
        "outputId": "50476acb-f867-4b48-e50e-f85ab6445356",
        "colab": {
          "base_uri": "https://localhost:8080/"
        }
      },
      "execution_count": null,
      "outputs": [
        {
          "output_type": "stream",
          "name": "stdout",
          "text": [
            "        nota1  nota2  nota3  nota4\n",
            "Aluno1   10.0    7.5    5.6    6.7\n",
            "Aluno2    0.0    6.5    9.8    7.8\n"
          ]
        }
      ]
    },
    {
      "cell_type": "markdown",
      "source": [
        "12 - Exibir o boxplot de ambos os alunos no mesmo gráfico."
      ],
      "metadata": {
        "id": "20ixWJ0KT27A"
      }
    },
    {
      "cell_type": "code",
      "source": [
        "#para que possamos fazer o boxplot das linhas aluno1 e aluno2 precisasse fazer uma transposicao da matriz\n",
        "\n",
        "df_transposed = df.T\n",
        "plt.boxplot(df_transposed)\n",
        "\n",
        "#especificacoes da formatacao do grafico\n",
        "plt.xticks(range(1, len(df_transposed.columns) + 1), df_transposed.columns)\n",
        "plt.xlabel('Alunos')\n",
        "plt.ylabel('Notas')\n",
        "plt.show()"
      ],
      "metadata": {
        "id": "iTCZNhgaziOG",
        "outputId": "bb0bc725-b8d5-4829-cafb-e82955354507",
        "colab": {
          "base_uri": "https://localhost:8080/",
          "height": 449
        }
      },
      "execution_count": null,
      "outputs": [
        {
          "output_type": "display_data",
          "data": {
            "text/plain": [
              "<Figure size 640x480 with 1 Axes>"
            ],
            "image/png": "[encoded data removed]"
          },
          "metadata": {}
        }
      ]
    },
    {
      "cell_type": "markdown",
      "metadata": {
        "id": "1M7Xvyh0p8f5"
      },
      "source": [
        "## Dados multidimensionais\n",
        "\n",
        "#### 16. Importe as bibliotecas Numpy e Pandas e carregue o conjunto de dados Iris\n",
        "\n"
      ]
    },
    {
      "cell_type": "code",
      "source": [
        "iris_df = pd.read_csv('Iris.csv')"
      ],
      "metadata": {
        "id": "u3A4_j6pg7nY"
      },
      "execution_count": null,
      "outputs": []
    },
    {
      "cell_type": "markdown",
      "metadata": {
        "id": "FpaB6u7dqXa5"
      },
      "source": [
        "### [Sobre o Iris ](https://pt.wikipedia.org/wiki/Conjunto_de_dados_flor_Iris)\n",
        "O conjunto de dados consiste em amostras de três espécies de flores Iris ( Iris setosa, Iris virginica e Iris versicolor). Quatro atributos foram medidos em cada amostra: o comprimento e a largura das sépalas e pétalas, em centímetros.\n",
        "\n",
        "A estrutura das variáveis no arquivo é:\n",
        "\n",
        "1. comprimento sépala em cm\n",
        "2. largura sépala em cm\n",
        "3. comprimento da pétala em cm\n",
        "4. largura da pétala em cm\n",
        "5. classe:\n",
        "  - Iris Setosa\n",
        "  - Iris Versicolour\n",
        "  - Iris Virginica"
      ]
    },
    {
      "cell_type": "markdown",
      "metadata": {
        "id": "1B9BsWhIsmgg"
      },
      "source": [
        "### 17. Coloque nomes nas colunas do DataFrame de acordo com a descrição acima"
      ]
    },
    {
      "cell_type": "code",
      "source": [
        "del iris_df['Id']\n",
        "iris_df = iris_df.rename(columns= {'SepalLengthCm': 'comprimento sépala em cm', 'SepalWidthCm': 'largura sépala em cm', 'PetalLengthCm': 'comprimento da pétala em cm', 'PetalWidthCm': 'largura da pétala em cm', 'Species': 'classe'})\n",
        "print(iris_df)"
      ],
      "metadata": {
        "id": "xgIPAIhF8Jth",
        "outputId": "c2ff78ec-b5e8-450a-e955-ff7526f6f526",
        "colab": {
          "base_uri": "https://localhost:8080/"
        }
      },
      "execution_count": null,
      "outputs": [
        {
          "output_type": "stream",
          "name": "stdout",
          "text": [
            "     comprimento sépala em cm  largura sépala em cm  \\\n",
            "0                         5.1                   3.5   \n",
            "1                         4.9                   3.0   \n",
            "2                         4.7                   3.2   \n",
            "3                         4.6                   3.1   \n",
            "4                         5.0                   3.6   \n",
            "..                        ...                   ...   \n",
            "145                       6.7                   3.0   \n",
            "146                       6.3                   2.5   \n",
            "147                       6.5                   3.0   \n",
            "148                       6.2                   3.4   \n",
            "149                       5.9                   3.0   \n",
            "\n",
            "     comprimento da pétala em cm  largura da pétala em cm          classe  \n",
            "0                            1.4                      0.2     Iris-setosa  \n",
            "1                            1.4                      0.2     Iris-setosa  \n",
            "2                            1.3                      0.2     Iris-setosa  \n",
            "3                            1.5                      0.2     Iris-setosa  \n",
            "4                            1.4                      0.2     Iris-setosa  \n",
            "..                           ...                      ...             ...  \n",
            "145                          5.2                      2.3  Iris-virginica  \n",
            "146                          5.0                      1.9  Iris-virginica  \n",
            "147                          5.2                      2.0  Iris-virginica  \n",
            "148                          5.4                      2.3  Iris-virginica  \n",
            "149                          5.1                      1.8  Iris-virginica  \n",
            "\n",
            "[150 rows x 5 columns]\n"
          ]
        }
      ]
    },
    {
      "cell_type": "markdown",
      "metadata": {
        "id": "PRwETVrfs9BP"
      },
      "source": [
        "### 18. Usando Pandas, gere um histograma dos valores para cada um dos atributos (colunas)\n",
        "\n"
      ]
    },
    {
      "cell_type": "code",
      "source": [
        "for column in iris_df.columns:\n",
        "  plt.hist(iris_df[column])\n",
        "  plt.show()"
      ],
      "metadata": {
        "id": "cRE8sosk8Knj",
        "outputId": "d6661429-ecbd-4403-f8ce-fa1227f6d2a8",
        "colab": {
          "base_uri": "https://localhost:8080/",
          "height": 1000
        }
      },
      "execution_count": null,
      "outputs": [
        {
          "output_type": "display_data",
          "data": {
            "text/plain": [
              "<Figure size 640x480 with 1 Axes>"
            ],
            "image/png": "[encoded data removed]"
          },
          "metadata": {}
        },
        {
          "output_type": "display_data",
          "data": {
            "text/plain": [
              "<Figure size 640x480 with 1 Axes>"
            ],
            "image/png": "[encoded data removed]"
          },
          "metadata": {}
        },
        {
          "output_type": "display_data",
          "data": {
            "text/plain": [
              "<Figure size 640x480 with 1 Axes>"
            ],
            "image/png": "[encoded data removed]"
          },
          "metadata": {}
        },
        {
          "output_type": "display_data",
          "data": {
            "text/plain": [
              "<Figure size 640x480 with 1 Axes>"
            ],
            "image/png": "[encoded data removed]"
          },
          "metadata": {}
        },
        {
          "output_type": "display_data",
          "data": {
            "text/plain": [
              "<Figure size 640x480 with 1 Axes>"
            ],
            "image/png": "[encoded data removed]"
          },
          "metadata": {}
        }
      ]
    },
    {
      "cell_type": "markdown",
      "metadata": {
        "id": "X_bHuB2GtnKE"
      },
      "source": [
        "### 19. Todas as medições foram feitas em cm, crie uma nova coluna para cada atributo com seus valores em milímetros"
      ]
    },
    {
      "cell_type": "code",
      "source": [
        "column_names = iris_df.columns.tolist()\n",
        "#print(column_names)\n",
        "\n",
        "#fazendo uma copia para que as alteracoes feitas nao atrapalhem os exercicios seguintes\n",
        "iris_copy = iris_df.copy()\n",
        "for item in column_names[:-1]:\n",
        "  new_column = item + '(mm)'\n",
        "  iris_copy[new_column] = iris_copy[item].mul(10)\n",
        "iris_copy.head()\n"
      ],
      "metadata": {
        "id": "VfW6TnOZ8LJJ",
        "colab": {
          "base_uri": "https://localhost:8080/",
          "height": 310
        },
        "outputId": "a9ac9447-f327-4805-f191-54bb7169ebf2"
      },
      "execution_count": null,
      "outputs": [
        {
          "output_type": "execute_result",
          "data": {
            "text/plain": [
              "   comprimento sépala em cm  largura sépala em cm  \\\n",
              "0                       5.1                   3.5   \n",
              "1                       4.9                   3.0   \n",
              "2                       4.7                   3.2   \n",
              "3                       4.6                   3.1   \n",
              "4                       5.0                   3.6   \n",
              "\n",
              "   comprimento da pétala em cm  largura da pétala em cm       classe  \\\n",
              "0                          1.4                      0.2  Iris-setosa   \n",
              "1                          1.4                      0.2  Iris-setosa   \n",
              "2                          1.3                      0.2  Iris-setosa   \n",
              "3                          1.5                      0.2  Iris-setosa   \n",
              "4                          1.4                      0.2  Iris-setosa   \n",
              "\n",
              "   comprimento sépala em cm(mm)  largura sépala em cm(mm)  \\\n",
              "0                          51.0                      35.0   \n",
              "1                          49.0                      30.0   \n",
              "2                          47.0                      32.0   \n",
              "3                          46.0                      31.0   \n",
              "4                          50.0                      36.0   \n",
              "\n",
              "   comprimento da pétala em cm(mm)  largura da pétala em cm(mm)  \n",
              "0                             14.0                          2.0  \n",
              "1                             14.0                          2.0  \n",
              "2                             13.0                          2.0  \n",
              "3                             15.0                          2.0  \n",
              "4                             14.0                          2.0  "
            ],
            "text/html": [
              "\n",
              "  <div id=\"df-562bc890-9dbd-4762-ab3a-106a5e0fefed\" class=\"colab-df-container\">\n",
              "    <div>\n",
              "<style scoped>\n",
              "    .dataframe tbody tr th:only-of-type {\n",
              "        vertical-align: middle;\n",
              "    }\n",
              "\n",
              "    .dataframe tbody tr th {\n",
              "        vertical-align: top;\n",
              "    }\n",
              "\n",
              "    .dataframe thead th {\n",
              "        text-align: right;\n",
              "    }\n",
              "</style>\n",
              "<table border=\"1\" class=\"dataframe\">\n",
              "  <thead>\n",
              "    <tr style=\"text-align: right;\">\n",
              "      <th></th>\n",
              "      <th>comprimento sépala em cm</th>\n",
              "      <th>largura sépala em cm</th>\n",
              "      <th>comprimento da pétala em cm</th>\n",
              "      <th>largura da pétala em cm</th>\n",
              "      <th>classe</th>\n",
              "      <th>comprimento sépala em cm(mm)</th>\n",
              "      <th>largura sépala em cm(mm)</th>\n",
              "      <th>comprimento da pétala em cm(mm)</th>\n",
              "      <th>largura da pétala em cm(mm)</th>\n",
              "    </tr>\n",
              "  </thead>\n",
              "  <tbody>\n",
              "    <tr>\n",
              "      <th>0</th>\n",
              "      <td>5.1</td>\n",
              "      <td>3.5</td>\n",
              "      <td>1.4</td>\n",
              "      <td>0.2</td>\n",
              "      <td>Iris-setosa</td>\n",
              "      <td>51.0</td>\n",
              "      <td>35.0</td>\n",
              "      <td>14.0</td>\n",
              "      <td>2.0</td>\n",
              "    </tr>\n",
              "    <tr>\n",
              "      <th>1</th>\n",
              "      <td>4.9</td>\n",
              "      <td>3.0</td>\n",
              "      <td>1.4</td>\n",
              "      <td>0.2</td>\n",
              "      <td>Iris-setosa</td>\n",
              "      <td>49.0</td>\n",
              "      <td>30.0</td>\n",
              "      <td>14.0</td>\n",
              "      <td>2.0</td>\n",
              "    </tr>\n",
              "    <tr>\n",
              "      <th>2</th>\n",
              "      <td>4.7</td>\n",
              "      <td>3.2</td>\n",
              "      <td>1.3</td>\n",
              "      <td>0.2</td>\n",
              "      <td>Iris-setosa</td>\n",
              "      <td>47.0</td>\n",
              "      <td>32.0</td>\n",
              "      <td>13.0</td>\n",
              "      <td>2.0</td>\n",
              "    </tr>\n",
              "    <tr>\n",
              "      <th>3</th>\n",
              "      <td>4.6</td>\n",
              "      <td>3.1</td>\n",
              "      <td>1.5</td>\n",
              "      <td>0.2</td>\n",
              "      <td>Iris-setosa</td>\n",
              "      <td>46.0</td>\n",
              "      <td>31.0</td>\n",
              "      <td>15.0</td>\n",
              "      <td>2.0</td>\n",
              "    </tr>\n",
              "    <tr>\n",
              "      <th>4</th>\n",
              "      <td>5.0</td>\n",
              "      <td>3.6</td>\n",
              "      <td>1.4</td>\n",
              "      <td>0.2</td>\n",
              "      <td>Iris-setosa</td>\n",
              "      <td>50.0</td>\n",
              "      <td>36.0</td>\n",
              "      <td>14.0</td>\n",
              "      <td>2.0</td>\n",
              "    </tr>\n",
              "  </tbody>\n",
              "</table>\n",
              "</div>\n",
              "    <div class=\"colab-df-buttons\">\n",
              "\n",
              "  <div class=\"colab-df-container\">\n",
              "    <button class=\"colab-df-convert\" onclick=\"convertToInteractive('df-562bc890-9dbd-4762-ab3a-106a5e0fefed')\"\n",
              "            title=\"Convert this dataframe to an interactive table.\"\n",
              "            style=\"display:none;\">\n",
              "\n",
              "  <svg xmlns=\"http://www.w3.org/2000/svg\" height=\"24px\" viewBox=\"0 -960 960 960\">\n",
              "    <path d=\"M120-120v-720h720v720H120Zm60-500h600v-160H180v160Zm220 220h160v-160H400v160Zm0 220h160v-160H400v160ZM180-400h160v-160H180v160Zm440 0h160v-160H620v160ZM180-180h160v-160H180v160Zm440 0h160v-160H620v160Z\"/>\n",
              "  </svg>\n",
              "    </button>\n",
              "\n",
              "  <style>\n",
              "    .colab-df-container {\n",
              "      display:flex;\n",
              "      gap: 12px;\n",
              "    }\n",
              "\n",
              "    .colab-df-convert {\n",
              "      background-color: #E8F0FE;\n",
              "      border: none;\n",
              "      border-radius: 50%;\n",
              "      cursor: pointer;\n",
              "      display: none;\n",
              "      fill: #1967D2;\n",
              "      height: 32px;\n",
              "      padding: 0 0 0 0;\n",
              "      width: 32px;\n",
              "    }\n",
              "\n",
              "    .colab-df-convert:hover {\n",
              "      background-color: #E2EBFA;\n",
              "      box-shadow: 0px 1px 2px rgba(60, 64, 67, 0.3), 0px 1px 3px 1px rgba(60, 64, 67, 0.15);\n",
              "      fill: #174EA6;\n",
              "    }\n",
              "\n",
              "    .colab-df-buttons div {\n",
              "      margin-bottom: 4px;\n",
              "    }\n",
              "\n",
              "    [theme=dark] .colab-df-convert {\n",
              "      background-color: #3B4455;\n",
              "      fill: #D2E3FC;\n",
              "    }\n",
              "\n",
              "    [theme=dark] .colab-df-convert:hover {\n",
              "      background-color: #434B5C;\n",
              "      box-shadow: 0px 1px 3px 1px rgba(0, 0, 0, 0.15);\n",
              "      filter: drop-shadow(0px 1px 2px rgba(0, 0, 0, 0.3));\n",
              "      fill: #FFFFFF;\n",
              "    }\n",
              "  </style>\n",
              "\n",
              "    <script>\n",
              "      const buttonEl =\n",
              "        document.querySelector('#df-562bc890-9dbd-4762-ab3a-106a5e0fefed button.colab-df-convert');\n",
              "      buttonEl.style.display =\n",
              "        google.colab.kernel.accessAllowed ? 'block' : 'none';\n",
              "\n",
              "      async function convertToInteractive(key) {\n",
              "        const element = document.querySelector('#df-562bc890-9dbd-4762-ab3a-106a5e0fefed');\n",
              "        const dataTable =\n",
              "          await google.colab.kernel.invokeFunction('convertToInteractive',\n",
              "                                                    [key], {});\n",
              "        if (!dataTable) return;\n",
              "\n",
              "        const docLinkHtml = 'Like what you see? Visit the ' +\n",
              "          '<a target=\"_blank\" href=https://colab.research.google.com/notebooks/data_table.ipynb>data table notebook</a>'\n",
              "          + ' to learn more about interactive tables.';\n",
              "        element.innerHTML = '';\n",
              "        dataTable['output_type'] = 'display_data';\n",
              "        await google.colab.output.renderOutput(dataTable, element);\n",
              "        const docLink = document.createElement('div');\n",
              "        docLink.innerHTML = docLinkHtml;\n",
              "        element.appendChild(docLink);\n",
              "      }\n",
              "    </script>\n",
              "  </div>\n",
              "\n",
              "\n",
              "<div id=\"df-bc6d209a-8e66-46b4-820c-32c2fc55fee3\">\n",
              "  <button class=\"colab-df-quickchart\" onclick=\"quickchart('df-bc6d209a-8e66-46b4-820c-32c2fc55fee3')\"\n",
              "            title=\"Suggest charts.\"\n",
              "            style=\"display:none;\">\n",
              "\n",
              "<svg xmlns=\"http://www.w3.org/2000/svg\" height=\"24px\"viewBox=\"0 0 24 24\"\n",
              "     width=\"24px\">\n",
              "    <g>\n",
              "        <path d=\"M19 3H5c-1.1 0-2 .9-2 2v14c0 1.1.9 2 2 2h14c1.1 0 2-.9 2-2V5c0-1.1-.9-2-2-2zM9 17H7v-7h2v7zm4 0h-2V7h2v10zm4 0h-2v-4h2v4z\"/>\n",
              "    </g>\n",
              "</svg>\n",
              "  </button>\n",
              "\n",
              "<style>\n",
              "  .colab-df-quickchart {\n",
              "      --bg-color: #E8F0FE;\n",
              "      --fill-color: #1967D2;\n",
              "      --hover-bg-color: #E2EBFA;\n",
              "      --hover-fill-color: #174EA6;\n",
              "      --disabled-fill-color: #AAA;\n",
              "      --disabled-bg-color: #DDD;\n",
              "  }\n",
              "\n",
              "  [theme=dark] .colab-df-quickchart {\n",
              "      --bg-color: #3B4455;\n",
              "      --fill-color: #D2E3FC;\n",
              "      --hover-bg-color: #434B5C;\n",
              "      --hover-fill-color: #FFFFFF;\n",
              "      --disabled-bg-color: #3B4455;\n",
              "      --disabled-fill-color: #666;\n",
              "  }\n",
              "\n",
              "  .colab-df-quickchart {\n",
              "    background-color: var(--bg-color);\n",
              "    border: none;\n",
              "    border-radius: 50%;\n",
              "    cursor: pointer;\n",
              "    display: none;\n",
              "    fill: var(--fill-color);\n",
              "    height: 32px;\n",
              "    padding: 0;\n",
              "    width: 32px;\n",
              "  }\n",
              "\n",
              "  .colab-df-quickchart:hover {\n",
              "    background-color: var(--hover-bg-color);\n",
              "    box-shadow: 0 1px 2px rgba(60, 64, 67, 0.3), 0 1px 3px 1px rgba(60, 64, 67, 0.15);\n",
              "    fill: var(--button-hover-fill-color);\n",
              "  }\n",
              "\n",
              "  .colab-df-quickchart-complete:disabled,\n",
              "  .colab-df-quickchart-complete:disabled:hover {\n",
              "    background-color: var(--disabled-bg-color);\n",
              "    fill: var(--disabled-fill-color);\n",
              "    box-shadow: none;\n",
              "  }\n",
              "\n",
              "  .colab-df-spinner {\n",
              "    border: 2px solid var(--fill-color);\n",
              "    border-color: transparent;\n",
              "    border-bottom-color: var(--fill-color);\n",
              "    animation:\n",
              "      spin 1s steps(1) infinite;\n",
              "  }\n",
              "\n",
              "  @keyframes spin {\n",
              "    0% {\n",
              "      border-color: transparent;\n",
              "      border-bottom-color: var(--fill-color);\n",
              "      border-left-color: var(--fill-color);\n",
              "    }\n",
              "    20% {\n",
              "      border-color: transparent;\n",
              "      border-left-color: var(--fill-color);\n",
              "      border-top-color: var(--fill-color);\n",
              "    }\n",
              "    30% {\n",
              "      border-color: transparent;\n",
              "      border-left-color: var(--fill-color);\n",
              "      border-top-color: var(--fill-color);\n",
              "      border-right-color: var(--fill-color);\n",
              "    }\n",
              "    40% {\n",
              "      border-color: transparent;\n",
              "      border-right-color: var(--fill-color);\n",
              "      border-top-color: var(--fill-color);\n",
              "    }\n",
              "    60% {\n",
              "      border-color: transparent;\n",
              "      border-right-color: var(--fill-color);\n",
              "    }\n",
              "    80% {\n",
              "      border-color: transparent;\n",
              "      border-right-color: var(--fill-color);\n",
              "      border-bottom-color: var(--fill-color);\n",
              "    }\n",
              "    90% {\n",
              "      border-color: transparent;\n",
              "      border-bottom-color: var(--fill-color);\n",
              "    }\n",
              "  }\n",
              "</style>\n",
              "\n",
              "  <script>\n",
              "    async function quickchart(key) {\n",
              "      const quickchartButtonEl =\n",
              "        document.querySelector('#' + key + ' button');\n",
              "      quickchartButtonEl.disabled = true;  // To prevent multiple clicks.\n",
              "      quickchartButtonEl.classList.add('colab-df-spinner');\n",
              "      try {\n",
              "        const charts = await google.colab.kernel.invokeFunction(\n",
              "            'suggestCharts', [key], {});\n",
              "      } catch (error) {\n",
              "        console.error('Error during call to suggestCharts:', error);\n",
              "      }\n",
              "      quickchartButtonEl.classList.remove('colab-df-spinner');\n",
              "      quickchartButtonEl.classList.add('colab-df-quickchart-complete');\n",
              "    }\n",
              "    (() => {\n",
              "      let quickchartButtonEl =\n",
              "        document.querySelector('#df-bc6d209a-8e66-46b4-820c-32c2fc55fee3 button');\n",
              "      quickchartButtonEl.style.display =\n",
              "        google.colab.kernel.accessAllowed ? 'block' : 'none';\n",
              "    })();\n",
              "  </script>\n",
              "</div>\n",
              "    </div>\n",
              "  </div>\n"
            ]
          },
          "metadata": {},
          "execution_count": 38
        }
      ]
    },
    {
      "cell_type": "markdown",
      "metadata": {
        "id": "7OpjoytyuHxJ"
      },
      "source": [
        "### 20.  Conte o número de amostras por classe, retorne uma lista com 3 elementos com a contagem de cada classe. Usar o unique do pandas.\n"
      ]
    },
    {
      "cell_type": "code",
      "source": [
        "\n",
        "'''\n",
        "Tipos de classes:\n",
        "    Iris Setosa\n",
        "    Iris Versicolour\n",
        "    Iris Virginica\n",
        "'''\n",
        "print(iris_df['classe'].value_counts())\n"
      ],
      "metadata": {
        "id": "z1WlE7Eb8LjB",
        "colab": {
          "base_uri": "https://localhost:8080/"
        },
        "outputId": "bbd90d19-03de-4bab-f649-24602e95f5cd"
      },
      "execution_count": null,
      "outputs": [
        {
          "output_type": "stream",
          "name": "stdout",
          "text": [
            "Iris-setosa        50\n",
            "Iris-versicolor    50\n",
            "Iris-virginica     50\n",
            "Name: classe, dtype: int64\n"
          ]
        }
      ]
    },
    {
      "cell_type": "markdown",
      "metadata": {
        "id": "_jBX26yTut9N"
      },
      "source": [
        "### 21. Dado um atributo, printe qual classe possui o maior e menor valor. Exemplo (não necessáriamente correto): \"A classe Iris-Setosa possui a menor medição de largura de sépala.\""
      ]
    },
    {
      "cell_type": "code",
      "source": [
        "#tomando o atributo comprimento sépala em cm como exemplo\n",
        "\n",
        "#agrupa-se o data frame baseado na classe\n",
        "grouped = iris_df.groupby('classe')\n",
        "\n",
        "#escolhe-se os menores valores de dada categoria dentre cada classe\n",
        "values = grouped['comprimento sépala em cm'].min()\n",
        "\n",
        "#escolhe-se o menor deles e retorna a classe correspondente\n",
        "lowest = values.min()\n",
        "lowest_category = values.idxmin()\n",
        "\n",
        "print(f\"A classe {lowest_category} possui o menor valor: {lowest}\")\n",
        "\n",
        "#repetindo o processo para obter o maximo\n",
        "values = grouped['comprimento sépala em cm'].max()\n",
        "highest = values.max()\n",
        "highest_category = values.idxmax()\n",
        "print(f\"A classe {highest_category} possui o menor valor: {highest}\")"
      ],
      "metadata": {
        "id": "l265KjaJ8L7J",
        "colab": {
          "base_uri": "https://localhost:8080/"
        },
        "outputId": "10fd04df-d497-4b69-d24d-4e802bc796a4"
      },
      "execution_count": null,
      "outputs": [
        {
          "output_type": "stream",
          "name": "stdout",
          "text": [
            "A classe Iris-setosa possui o menor valor: 4.3\n",
            "A classe Iris-virginica possui o menor valor: 7.9\n"
          ]
        }
      ]
    },
    {
      "cell_type": "markdown",
      "source": [
        "### 22. Calcule os valores do 3 quartis para cada um dos atributos."
      ],
      "metadata": {
        "id": "cO_ohkaqibng"
      }
    },
    {
      "cell_type": "code",
      "source": [
        "for column in iris_df.columns[:-1]:\n",
        "  print(iris_df[column].quantile([0.25, 0.5, 0.75]))"
      ],
      "metadata": {
        "id": "-wRga8lf8Mj6",
        "colab": {
          "base_uri": "https://localhost:8080/"
        },
        "outputId": "eb0ce71f-e67d-4c13-ca0d-0ec9ebdd069c"
      },
      "execution_count": null,
      "outputs": [
        {
          "output_type": "stream",
          "name": "stdout",
          "text": [
            "0.25    5.1\n",
            "0.50    5.8\n",
            "0.75    6.4\n",
            "Name: comprimento sépala em cm, dtype: float64\n",
            "0.25    2.8\n",
            "0.50    3.0\n",
            "0.75    3.3\n",
            "Name: largura sépala em cm, dtype: float64\n",
            "0.25    1.60\n",
            "0.50    4.35\n",
            "0.75    5.10\n",
            "Name: comprimento da pétala em cm, dtype: float64\n",
            "0.25    0.3\n",
            "0.50    1.3\n",
            "0.75    1.8\n",
            "Name: largura da pétala em cm, dtype: float64\n"
          ]
        }
      ]
    },
    {
      "cell_type": "markdown",
      "source": [
        "### 23. Calcule as medidas de media, variancia, obliquidade e kurtosi para cada um dos atributos."
      ],
      "metadata": {
        "id": "4C-0KMR6iqkt"
      }
    },
    {
      "cell_type": "code",
      "source": [
        "for column in iris_df.columns[:-1]:\n",
        "  print(f\"{column}:\\n\")\n",
        "  print(f\"Média: {iris_df[column].mean()}\\n\")\n",
        "  print(f\"Variância: {iris_df[column].var()}\\n\")\n",
        "  print(f\"Obliquidade: {iris_df[column].skew()}\\n\")\n",
        "  print(f\"Kurtosis: {iris_df[column].kurt()}\\n\\n\")"
      ],
      "metadata": {
        "id": "BvKWmzDl8M1r",
        "colab": {
          "base_uri": "https://localhost:8080/"
        },
        "outputId": "0ebb6013-a9c1-4f6a-e19e-9bbc2fb08abd"
      },
      "execution_count": null,
      "outputs": [
        {
          "output_type": "stream",
          "name": "stdout",
          "text": [
            "comprimento sépala em cm:\n",
            "\n",
            "Média: 5.843333333333334\n",
            "\n",
            "Variância: 0.6856935123042507\n",
            "\n",
            "Obliquidade: 0.3149109566369728\n",
            "\n",
            "Kurtosis: -0.5520640413156395\n",
            "\n",
            "\n",
            "largura sépala em cm:\n",
            "\n",
            "Média: 3.0540000000000003\n",
            "\n",
            "Variância: 0.1880040268456376\n",
            "\n",
            "Obliquidade: 0.3340526621720866\n",
            "\n",
            "Kurtosis: 0.2907810623654279\n",
            "\n",
            "\n",
            "comprimento da pétala em cm:\n",
            "\n",
            "Média: 3.758666666666666\n",
            "\n",
            "Variância: 3.113179418344519\n",
            "\n",
            "Obliquidade: -0.27446425247378287\n",
            "\n",
            "Kurtosis: -1.4019208006454036\n",
            "\n",
            "\n",
            "largura da pétala em cm:\n",
            "\n",
            "Média: 1.1986666666666668\n",
            "\n",
            "Variância: 0.582414317673378\n",
            "\n",
            "Obliquidade: -0.10499656214412734\n",
            "\n",
            "Kurtosis: -1.3397541711393433\n",
            "\n",
            "\n"
          ]
        }
      ]
    }
  ]
}